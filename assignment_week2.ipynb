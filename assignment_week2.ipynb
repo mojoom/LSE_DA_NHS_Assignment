{
 "cells": [
  {
   "cell_type": "markdown",
   "id": "6e653176",
   "metadata": {},
   "source": [
    "# Import libraries"
   ]
  },
  {
   "cell_type": "code",
   "execution_count": 1,
   "id": "9f5f6ed2",
   "metadata": {},
   "outputs": [],
   "source": [
    "#import necessary libraries\n",
    "#import pandas\n",
    "import pandas as pd\n",
    "\n",
    "#import numpy\n",
    "import numpy as nm \n"
   ]
  },
  {
   "cell_type": "markdown",
   "id": "3be716cf",
   "metadata": {},
   "source": [
    "# Import dataset files"
   ]
  },
  {
   "cell_type": "code",
   "execution_count": 2,
   "id": "976e717c",
   "metadata": {},
   "outputs": [],
   "source": [
    "#import csv files\n",
    "ad = pd.read_csv('actual_duration.csv')\n",
    "ar = pd.read_csv('appointments_regional.csv')\n",
    "\n",
    "#import excel file\n",
    "nc = pd.read_excel('national_categories.xlsx')"
   ]
  },
  {
   "cell_type": "markdown",
   "id": "50d6a494",
   "metadata": {},
   "source": [
    "# Sense check actual_duration.csv\n",
    "check column names, total number of rows and colums, data types\n",
    "missing number of values, first 5 records"
   ]
  },
  {
   "cell_type": "code",
   "execution_count": 3,
   "id": "dc8e3894",
   "metadata": {},
   "outputs": [
    {
     "name": "stdout",
     "output_type": "stream",
     "text": [
      "(137793, 8)\n",
      "Index(['sub_icb_location_code', 'sub_icb_location_ons_code',\n",
      "       'sub_icb_location_name', 'icb_ons_code', 'region_ons_code',\n",
      "       'appointment_date', 'actual_duration', 'count_of_appointments'],\n",
      "      dtype='object')\n"
     ]
    },
    {
     "data": {
      "text/plain": [
       "sub_icb_location_code        object\n",
       "sub_icb_location_ons_code    object\n",
       "sub_icb_location_name        object\n",
       "icb_ons_code                 object\n",
       "region_ons_code              object\n",
       "appointment_date             object\n",
       "actual_duration              object\n",
       "count_of_appointments         int64\n",
       "dtype: object"
      ]
     },
     "execution_count": 3,
     "metadata": {},
     "output_type": "execute_result"
    }
   ],
   "source": [
    "#check number of rows and columns\n",
    "print(ad.shape)\n",
    "\n",
    "#check column names\n",
    "print(ad.columns)\n",
    "\n",
    "#check data type\n",
    "ad.dtypes"
   ]
  },
  {
   "cell_type": "code",
   "execution_count": 4,
   "id": "04c9123d",
   "metadata": {},
   "outputs": [
    {
     "data": {
      "text/html": [
       "<div>\n",
       "<style scoped>\n",
       "    .dataframe tbody tr th:only-of-type {\n",
       "        vertical-align: middle;\n",
       "    }\n",
       "\n",
       "    .dataframe tbody tr th {\n",
       "        vertical-align: top;\n",
       "    }\n",
       "\n",
       "    .dataframe thead th {\n",
       "        text-align: right;\n",
       "    }\n",
       "</style>\n",
       "<table border=\"1\" class=\"dataframe\">\n",
       "  <thead>\n",
       "    <tr style=\"text-align: right;\">\n",
       "      <th></th>\n",
       "      <th>sub_icb_location_code</th>\n",
       "      <th>sub_icb_location_ons_code</th>\n",
       "      <th>sub_icb_location_name</th>\n",
       "      <th>icb_ons_code</th>\n",
       "      <th>region_ons_code</th>\n",
       "      <th>appointment_date</th>\n",
       "      <th>actual_duration</th>\n",
       "      <th>count_of_appointments</th>\n",
       "    </tr>\n",
       "  </thead>\n",
       "  <tbody>\n",
       "    <tr>\n",
       "      <th>0</th>\n",
       "      <td>00L</td>\n",
       "      <td>E38000130</td>\n",
       "      <td>NHS North East and North Cumbria ICB - 00L</td>\n",
       "      <td>E54000050</td>\n",
       "      <td>E40000012</td>\n",
       "      <td>01-Dec-21</td>\n",
       "      <td>31-60 Minutes</td>\n",
       "      <td>364</td>\n",
       "    </tr>\n",
       "    <tr>\n",
       "      <th>1</th>\n",
       "      <td>00L</td>\n",
       "      <td>E38000130</td>\n",
       "      <td>NHS North East and North Cumbria ICB - 00L</td>\n",
       "      <td>E54000050</td>\n",
       "      <td>E40000012</td>\n",
       "      <td>01-Dec-21</td>\n",
       "      <td>21-30 Minutes</td>\n",
       "      <td>619</td>\n",
       "    </tr>\n",
       "    <tr>\n",
       "      <th>2</th>\n",
       "      <td>00L</td>\n",
       "      <td>E38000130</td>\n",
       "      <td>NHS North East and North Cumbria ICB - 00L</td>\n",
       "      <td>E54000050</td>\n",
       "      <td>E40000012</td>\n",
       "      <td>01-Dec-21</td>\n",
       "      <td>6-10 Minutes</td>\n",
       "      <td>1698</td>\n",
       "    </tr>\n",
       "    <tr>\n",
       "      <th>3</th>\n",
       "      <td>00L</td>\n",
       "      <td>E38000130</td>\n",
       "      <td>NHS North East and North Cumbria ICB - 00L</td>\n",
       "      <td>E54000050</td>\n",
       "      <td>E40000012</td>\n",
       "      <td>01-Dec-21</td>\n",
       "      <td>Unknown / Data Quality</td>\n",
       "      <td>1277</td>\n",
       "    </tr>\n",
       "    <tr>\n",
       "      <th>4</th>\n",
       "      <td>00L</td>\n",
       "      <td>E38000130</td>\n",
       "      <td>NHS North East and North Cumbria ICB - 00L</td>\n",
       "      <td>E54000050</td>\n",
       "      <td>E40000012</td>\n",
       "      <td>01-Dec-21</td>\n",
       "      <td>16-20 Minutes</td>\n",
       "      <td>730</td>\n",
       "    </tr>\n",
       "  </tbody>\n",
       "</table>\n",
       "</div>"
      ],
      "text/plain": [
       "  sub_icb_location_code sub_icb_location_ons_code  \\\n",
       "0                   00L                 E38000130   \n",
       "1                   00L                 E38000130   \n",
       "2                   00L                 E38000130   \n",
       "3                   00L                 E38000130   \n",
       "4                   00L                 E38000130   \n",
       "\n",
       "                        sub_icb_location_name icb_ons_code region_ons_code  \\\n",
       "0  NHS North East and North Cumbria ICB - 00L    E54000050       E40000012   \n",
       "1  NHS North East and North Cumbria ICB - 00L    E54000050       E40000012   \n",
       "2  NHS North East and North Cumbria ICB - 00L    E54000050       E40000012   \n",
       "3  NHS North East and North Cumbria ICB - 00L    E54000050       E40000012   \n",
       "4  NHS North East and North Cumbria ICB - 00L    E54000050       E40000012   \n",
       "\n",
       "  appointment_date         actual_duration  count_of_appointments  \n",
       "0        01-Dec-21           31-60 Minutes                    364  \n",
       "1        01-Dec-21           21-30 Minutes                    619  \n",
       "2        01-Dec-21            6-10 Minutes                   1698  \n",
       "3        01-Dec-21  Unknown / Data Quality                   1277  \n",
       "4        01-Dec-21           16-20 Minutes                    730  "
      ]
     },
     "execution_count": 4,
     "metadata": {},
     "output_type": "execute_result"
    }
   ],
   "source": [
    "#check right data type for actual_duration.csv\n",
    "ad.head()"
   ]
  },
  {
   "cell_type": "code",
   "execution_count": 5,
   "id": "ae871353",
   "metadata": {},
   "outputs": [
    {
     "data": {
      "text/plain": [
       "0"
      ]
     },
     "execution_count": 5,
     "metadata": {},
     "output_type": "execute_result"
    }
   ],
   "source": [
    "#check for number of missing values for actual_duration.csv\n",
    "ad.isna().sum().sum()"
   ]
  },
  {
   "cell_type": "markdown",
   "id": "82c43586",
   "metadata": {},
   "source": [
    "# Descriptive statistics and metadata\n",
    "# actual_duration.csv"
   ]
  },
  {
   "cell_type": "code",
   "execution_count": 6,
   "id": "2d6fc970",
   "metadata": {},
   "outputs": [
    {
     "name": "stdout",
     "output_type": "stream",
     "text": [
      "       sub_icb_location_code sub_icb_location_ons_code  \\\n",
      "count                 137793                    137793   \n",
      "unique                   106                       106   \n",
      "top                      26A                 E38000239   \n",
      "freq                    1484                      1484   \n",
      "mean                     NaN                       NaN   \n",
      "std                      NaN                       NaN   \n",
      "min                      NaN                       NaN   \n",
      "25%                      NaN                       NaN   \n",
      "50%                      NaN                       NaN   \n",
      "75%                      NaN                       NaN   \n",
      "max                      NaN                       NaN   \n",
      "\n",
      "                    sub_icb_location_name icb_ons_code region_ons_code  \\\n",
      "count                              137793       137793          137793   \n",
      "unique                                106           42               7   \n",
      "top     NHS Norfolk and Waveney ICB - 26A    E54000057       E40000010   \n",
      "freq                                 1484        12668           33112   \n",
      "mean                                  NaN          NaN             NaN   \n",
      "std                                   NaN          NaN             NaN   \n",
      "min                                   NaN          NaN             NaN   \n",
      "25%                                   NaN          NaN             NaN   \n",
      "50%                                   NaN          NaN             NaN   \n",
      "75%                                   NaN          NaN             NaN   \n",
      "max                                   NaN          NaN             NaN   \n",
      "\n",
      "       appointment_date         actual_duration  count_of_appointments  \n",
      "count            137793                  137793          137793.000000  \n",
      "unique              212                       7                    NaN  \n",
      "top           01-Dec-21  Unknown / Data Quality                    NaN  \n",
      "freq                742                   20161                    NaN  \n",
      "mean                NaN                     NaN            1219.080011  \n",
      "std                 NaN                     NaN            1546.902956  \n",
      "min                 NaN                     NaN               1.000000  \n",
      "25%                 NaN                     NaN             194.000000  \n",
      "50%                 NaN                     NaN             696.000000  \n",
      "75%                 NaN                     NaN            1621.000000  \n",
      "max                 NaN                     NaN           15400.000000  \n"
     ]
    }
   ],
   "source": [
    "#determine descriptive statistics for entire Data frame\n",
    "stats_ad = ad.describe(include='all')\n",
    "print (stats_ad)"
   ]
  },
  {
   "cell_type": "code",
   "execution_count": 7,
   "id": "d68c2611",
   "metadata": {},
   "outputs": [
    {
     "data": {
      "text/html": [
       "<div>\n",
       "<style scoped>\n",
       "    .dataframe tbody tr th:only-of-type {\n",
       "        vertical-align: middle;\n",
       "    }\n",
       "\n",
       "    .dataframe tbody tr th {\n",
       "        vertical-align: top;\n",
       "    }\n",
       "\n",
       "    .dataframe thead th {\n",
       "        text-align: right;\n",
       "    }\n",
       "</style>\n",
       "<table border=\"1\" class=\"dataframe\">\n",
       "  <thead>\n",
       "    <tr style=\"text-align: right;\">\n",
       "      <th></th>\n",
       "      <th>count_of_appointments</th>\n",
       "    </tr>\n",
       "  </thead>\n",
       "  <tbody>\n",
       "    <tr>\n",
       "      <th>count</th>\n",
       "      <td>137793.000000</td>\n",
       "    </tr>\n",
       "    <tr>\n",
       "      <th>mean</th>\n",
       "      <td>1219.080011</td>\n",
       "    </tr>\n",
       "    <tr>\n",
       "      <th>std</th>\n",
       "      <td>1546.902956</td>\n",
       "    </tr>\n",
       "    <tr>\n",
       "      <th>min</th>\n",
       "      <td>1.000000</td>\n",
       "    </tr>\n",
       "    <tr>\n",
       "      <th>25%</th>\n",
       "      <td>194.000000</td>\n",
       "    </tr>\n",
       "    <tr>\n",
       "      <th>50%</th>\n",
       "      <td>696.000000</td>\n",
       "    </tr>\n",
       "    <tr>\n",
       "      <th>75%</th>\n",
       "      <td>1621.000000</td>\n",
       "    </tr>\n",
       "    <tr>\n",
       "      <th>max</th>\n",
       "      <td>15400.000000</td>\n",
       "    </tr>\n",
       "  </tbody>\n",
       "</table>\n",
       "</div>"
      ],
      "text/plain": [
       "       count_of_appointments\n",
       "count          137793.000000\n",
       "mean             1219.080011\n",
       "std              1546.902956\n",
       "min                 1.000000\n",
       "25%               194.000000\n",
       "50%               696.000000\n",
       "75%              1621.000000\n",
       "max             15400.000000"
      ]
     },
     "execution_count": 7,
     "metadata": {},
     "output_type": "execute_result"
    }
   ],
   "source": [
    "ad.describe()"
   ]
  },
  {
   "cell_type": "code",
   "execution_count": 8,
   "id": "969daf71",
   "metadata": {},
   "outputs": [
    {
     "name": "stdout",
     "output_type": "stream",
     "text": [
      "<class 'pandas.core.frame.DataFrame'>\n",
      "RangeIndex: 137793 entries, 0 to 137792\n",
      "Data columns (total 8 columns):\n",
      " #   Column                     Non-Null Count   Dtype \n",
      "---  ------                     --------------   ----- \n",
      " 0   sub_icb_location_code      137793 non-null  object\n",
      " 1   sub_icb_location_ons_code  137793 non-null  object\n",
      " 2   sub_icb_location_name      137793 non-null  object\n",
      " 3   icb_ons_code               137793 non-null  object\n",
      " 4   region_ons_code            137793 non-null  object\n",
      " 5   appointment_date           137793 non-null  object\n",
      " 6   actual_duration            137793 non-null  object\n",
      " 7   count_of_appointments      137793 non-null  int64 \n",
      "dtypes: int64(1), object(7)\n",
      "memory usage: 8.4+ MB\n"
     ]
    }
   ],
   "source": [
    "ad.info()"
   ]
  },
  {
   "cell_type": "markdown",
   "id": "ba4848ac",
   "metadata": {},
   "source": [
    "# Sense check appointments_regional.csv\n",
    "check column names, total number of rows and colums, data types\n",
    "missing number of values, first 5 records"
   ]
  },
  {
   "cell_type": "code",
   "execution_count": 9,
   "id": "521f755c",
   "metadata": {},
   "outputs": [
    {
     "name": "stdout",
     "output_type": "stream",
     "text": [
      "(596821, 7)\n",
      "Index(['icb_ons_code', 'appointment_month', 'appointment_status', 'hcp_type',\n",
      "       'appointment_mode', 'time_between_book_and_appointment',\n",
      "       'count_of_appointments'],\n",
      "      dtype='object')\n"
     ]
    },
    {
     "data": {
      "text/plain": [
       "icb_ons_code                         object\n",
       "appointment_month                    object\n",
       "appointment_status                   object\n",
       "hcp_type                             object\n",
       "appointment_mode                     object\n",
       "time_between_book_and_appointment    object\n",
       "count_of_appointments                 int64\n",
       "dtype: object"
      ]
     },
     "execution_count": 9,
     "metadata": {},
     "output_type": "execute_result"
    }
   ],
   "source": [
    "#check number of rows and columns\n",
    "print(ar.shape)\n",
    "\n",
    "#check column names\n",
    "print(ar.columns)\n",
    "\n",
    "#check data type\n",
    "ar.dtypes"
   ]
  },
  {
   "cell_type": "code",
   "execution_count": 10,
   "id": "4ead1d99",
   "metadata": {},
   "outputs": [
    {
     "data": {
      "text/html": [
       "<div>\n",
       "<style scoped>\n",
       "    .dataframe tbody tr th:only-of-type {\n",
       "        vertical-align: middle;\n",
       "    }\n",
       "\n",
       "    .dataframe tbody tr th {\n",
       "        vertical-align: top;\n",
       "    }\n",
       "\n",
       "    .dataframe thead th {\n",
       "        text-align: right;\n",
       "    }\n",
       "</style>\n",
       "<table border=\"1\" class=\"dataframe\">\n",
       "  <thead>\n",
       "    <tr style=\"text-align: right;\">\n",
       "      <th></th>\n",
       "      <th>icb_ons_code</th>\n",
       "      <th>appointment_month</th>\n",
       "      <th>appointment_status</th>\n",
       "      <th>hcp_type</th>\n",
       "      <th>appointment_mode</th>\n",
       "      <th>time_between_book_and_appointment</th>\n",
       "      <th>count_of_appointments</th>\n",
       "    </tr>\n",
       "  </thead>\n",
       "  <tbody>\n",
       "    <tr>\n",
       "      <th>0</th>\n",
       "      <td>E54000034</td>\n",
       "      <td>2020-01</td>\n",
       "      <td>Attended</td>\n",
       "      <td>GP</td>\n",
       "      <td>Face-to-Face</td>\n",
       "      <td>1 Day</td>\n",
       "      <td>8107</td>\n",
       "    </tr>\n",
       "    <tr>\n",
       "      <th>1</th>\n",
       "      <td>E54000034</td>\n",
       "      <td>2020-01</td>\n",
       "      <td>Attended</td>\n",
       "      <td>GP</td>\n",
       "      <td>Face-to-Face</td>\n",
       "      <td>15  to 21 Days</td>\n",
       "      <td>6791</td>\n",
       "    </tr>\n",
       "    <tr>\n",
       "      <th>2</th>\n",
       "      <td>E54000034</td>\n",
       "      <td>2020-01</td>\n",
       "      <td>Attended</td>\n",
       "      <td>GP</td>\n",
       "      <td>Face-to-Face</td>\n",
       "      <td>2 to 7 Days</td>\n",
       "      <td>20686</td>\n",
       "    </tr>\n",
       "    <tr>\n",
       "      <th>3</th>\n",
       "      <td>E54000034</td>\n",
       "      <td>2020-01</td>\n",
       "      <td>Attended</td>\n",
       "      <td>GP</td>\n",
       "      <td>Face-to-Face</td>\n",
       "      <td>22  to 28 Days</td>\n",
       "      <td>4268</td>\n",
       "    </tr>\n",
       "    <tr>\n",
       "      <th>4</th>\n",
       "      <td>E54000034</td>\n",
       "      <td>2020-01</td>\n",
       "      <td>Attended</td>\n",
       "      <td>GP</td>\n",
       "      <td>Face-to-Face</td>\n",
       "      <td>8  to 14 Days</td>\n",
       "      <td>11971</td>\n",
       "    </tr>\n",
       "  </tbody>\n",
       "</table>\n",
       "</div>"
      ],
      "text/plain": [
       "  icb_ons_code appointment_month appointment_status hcp_type appointment_mode  \\\n",
       "0    E54000034           2020-01           Attended       GP     Face-to-Face   \n",
       "1    E54000034           2020-01           Attended       GP     Face-to-Face   \n",
       "2    E54000034           2020-01           Attended       GP     Face-to-Face   \n",
       "3    E54000034           2020-01           Attended       GP     Face-to-Face   \n",
       "4    E54000034           2020-01           Attended       GP     Face-to-Face   \n",
       "\n",
       "  time_between_book_and_appointment  count_of_appointments  \n",
       "0                             1 Day                   8107  \n",
       "1                    15  to 21 Days                   6791  \n",
       "2                       2 to 7 Days                  20686  \n",
       "3                    22  to 28 Days                   4268  \n",
       "4                     8  to 14 Days                  11971  "
      ]
     },
     "execution_count": 10,
     "metadata": {},
     "output_type": "execute_result"
    }
   ],
   "source": [
    "#check right data type for appointments_regional.csv\n",
    "ar.head()"
   ]
  },
  {
   "cell_type": "code",
   "execution_count": 11,
   "id": "3680f067",
   "metadata": {},
   "outputs": [
    {
     "data": {
      "text/plain": [
       "0"
      ]
     },
     "execution_count": 11,
     "metadata": {},
     "output_type": "execute_result"
    }
   ],
   "source": [
    "#check for number of missing values for appointments_regional.csv\n",
    "ar.isna().sum().sum()"
   ]
  },
  {
   "cell_type": "markdown",
   "id": "d26d3b25",
   "metadata": {},
   "source": [
    "# Descriptive statistics and metadata\n",
    "# appointments_regional.csv"
   ]
  },
  {
   "cell_type": "code",
   "execution_count": 12,
   "id": "21e9b0c5",
   "metadata": {},
   "outputs": [
    {
     "name": "stdout",
     "output_type": "stream",
     "text": [
      "       icb_ons_code appointment_month appointment_status  \\\n",
      "count        596821            596821             596821   \n",
      "unique           42                30                  3   \n",
      "top       E54000057           2020-03           Attended   \n",
      "freq          54527             21350             232137   \n",
      "mean            NaN               NaN                NaN   \n",
      "std             NaN               NaN                NaN   \n",
      "min             NaN               NaN                NaN   \n",
      "25%             NaN               NaN                NaN   \n",
      "50%             NaN               NaN                NaN   \n",
      "75%             NaN               NaN                NaN   \n",
      "max             NaN               NaN                NaN   \n",
      "\n",
      "                    hcp_type appointment_mode  \\\n",
      "count                 596821           596821   \n",
      "unique                     3                5   \n",
      "top     Other Practice staff     Face-to-Face   \n",
      "freq                  241557           180410   \n",
      "mean                     NaN              NaN   \n",
      "std                      NaN              NaN   \n",
      "min                      NaN              NaN   \n",
      "25%                      NaN              NaN   \n",
      "50%                      NaN              NaN   \n",
      "75%                      NaN              NaN   \n",
      "max                      NaN              NaN   \n",
      "\n",
      "       time_between_book_and_appointment  count_of_appointments  \n",
      "count                             596821          596821.000000  \n",
      "unique                                 8                    NaN  \n",
      "top                             Same Day                    NaN  \n",
      "freq                               95502                    NaN  \n",
      "mean                                 NaN            1244.601857  \n",
      "std                                  NaN            5856.887042  \n",
      "min                                  NaN               1.000000  \n",
      "25%                                  NaN               7.000000  \n",
      "50%                                  NaN              47.000000  \n",
      "75%                                  NaN             308.000000  \n",
      "max                                  NaN          211265.000000  \n"
     ]
    }
   ],
   "source": [
    "#determine descriptive statistics for entire Data frame\n",
    "stats_ar = ar.describe(include='all')\n",
    "print (stats_ar)"
   ]
  },
  {
   "cell_type": "code",
   "execution_count": 13,
   "id": "f0798eb9",
   "metadata": {},
   "outputs": [
    {
     "data": {
      "text/html": [
       "<div>\n",
       "<style scoped>\n",
       "    .dataframe tbody tr th:only-of-type {\n",
       "        vertical-align: middle;\n",
       "    }\n",
       "\n",
       "    .dataframe tbody tr th {\n",
       "        vertical-align: top;\n",
       "    }\n",
       "\n",
       "    .dataframe thead th {\n",
       "        text-align: right;\n",
       "    }\n",
       "</style>\n",
       "<table border=\"1\" class=\"dataframe\">\n",
       "  <thead>\n",
       "    <tr style=\"text-align: right;\">\n",
       "      <th></th>\n",
       "      <th>count_of_appointments</th>\n",
       "    </tr>\n",
       "  </thead>\n",
       "  <tbody>\n",
       "    <tr>\n",
       "      <th>count</th>\n",
       "      <td>596821.000000</td>\n",
       "    </tr>\n",
       "    <tr>\n",
       "      <th>mean</th>\n",
       "      <td>1244.601857</td>\n",
       "    </tr>\n",
       "    <tr>\n",
       "      <th>std</th>\n",
       "      <td>5856.887042</td>\n",
       "    </tr>\n",
       "    <tr>\n",
       "      <th>min</th>\n",
       "      <td>1.000000</td>\n",
       "    </tr>\n",
       "    <tr>\n",
       "      <th>25%</th>\n",
       "      <td>7.000000</td>\n",
       "    </tr>\n",
       "    <tr>\n",
       "      <th>50%</th>\n",
       "      <td>47.000000</td>\n",
       "    </tr>\n",
       "    <tr>\n",
       "      <th>75%</th>\n",
       "      <td>308.000000</td>\n",
       "    </tr>\n",
       "    <tr>\n",
       "      <th>max</th>\n",
       "      <td>211265.000000</td>\n",
       "    </tr>\n",
       "  </tbody>\n",
       "</table>\n",
       "</div>"
      ],
      "text/plain": [
       "       count_of_appointments\n",
       "count          596821.000000\n",
       "mean             1244.601857\n",
       "std              5856.887042\n",
       "min                 1.000000\n",
       "25%                 7.000000\n",
       "50%                47.000000\n",
       "75%               308.000000\n",
       "max            211265.000000"
      ]
     },
     "execution_count": 13,
     "metadata": {},
     "output_type": "execute_result"
    }
   ],
   "source": [
    "ar.describe()"
   ]
  },
  {
   "cell_type": "code",
   "execution_count": 14,
   "id": "64afb81f",
   "metadata": {},
   "outputs": [
    {
     "name": "stdout",
     "output_type": "stream",
     "text": [
      "<class 'pandas.core.frame.DataFrame'>\n",
      "RangeIndex: 596821 entries, 0 to 596820\n",
      "Data columns (total 7 columns):\n",
      " #   Column                             Non-Null Count   Dtype \n",
      "---  ------                             --------------   ----- \n",
      " 0   icb_ons_code                       596821 non-null  object\n",
      " 1   appointment_month                  596821 non-null  object\n",
      " 2   appointment_status                 596821 non-null  object\n",
      " 3   hcp_type                           596821 non-null  object\n",
      " 4   appointment_mode                   596821 non-null  object\n",
      " 5   time_between_book_and_appointment  596821 non-null  object\n",
      " 6   count_of_appointments              596821 non-null  int64 \n",
      "dtypes: int64(1), object(6)\n",
      "memory usage: 31.9+ MB\n"
     ]
    }
   ],
   "source": [
    "ar.info()"
   ]
  },
  {
   "cell_type": "markdown",
   "id": "dd7f3e91",
   "metadata": {},
   "source": [
    "# Sense check national_categories.xlsx\n",
    "check column names, total number of rows and colums, data types\n",
    "missing number of values, first 5 records"
   ]
  },
  {
   "cell_type": "code",
   "execution_count": 15,
   "id": "1d53e945",
   "metadata": {},
   "outputs": [
    {
     "name": "stdout",
     "output_type": "stream",
     "text": [
      "(817394, 8)\n",
      "Index(['appointment_date', 'icb_ons_code', 'sub_icb_location_name',\n",
      "       'service_setting', 'context_type', 'national_category',\n",
      "       'count_of_appointments', 'appointment_month'],\n",
      "      dtype='object')\n"
     ]
    },
    {
     "data": {
      "text/plain": [
       "appointment_date         datetime64[ns]\n",
       "icb_ons_code                     object\n",
       "sub_icb_location_name            object\n",
       "service_setting                  object\n",
       "context_type                     object\n",
       "national_category                object\n",
       "count_of_appointments             int64\n",
       "appointment_month                object\n",
       "dtype: object"
      ]
     },
     "execution_count": 15,
     "metadata": {},
     "output_type": "execute_result"
    }
   ],
   "source": [
    "#check number of rows and columns\n",
    "print(nc.shape)\n",
    "\n",
    "#check column names\n",
    "print(nc.columns)\n",
    "\n",
    "#check data type\n",
    "nc.dtypes\n"
   ]
  },
  {
   "cell_type": "code",
   "execution_count": 16,
   "id": "34d0eb17",
   "metadata": {},
   "outputs": [
    {
     "data": {
      "text/html": [
       "<div>\n",
       "<style scoped>\n",
       "    .dataframe tbody tr th:only-of-type {\n",
       "        vertical-align: middle;\n",
       "    }\n",
       "\n",
       "    .dataframe tbody tr th {\n",
       "        vertical-align: top;\n",
       "    }\n",
       "\n",
       "    .dataframe thead th {\n",
       "        text-align: right;\n",
       "    }\n",
       "</style>\n",
       "<table border=\"1\" class=\"dataframe\">\n",
       "  <thead>\n",
       "    <tr style=\"text-align: right;\">\n",
       "      <th></th>\n",
       "      <th>appointment_date</th>\n",
       "      <th>icb_ons_code</th>\n",
       "      <th>sub_icb_location_name</th>\n",
       "      <th>service_setting</th>\n",
       "      <th>context_type</th>\n",
       "      <th>national_category</th>\n",
       "      <th>count_of_appointments</th>\n",
       "      <th>appointment_month</th>\n",
       "    </tr>\n",
       "  </thead>\n",
       "  <tbody>\n",
       "    <tr>\n",
       "      <th>0</th>\n",
       "      <td>2021-08-02</td>\n",
       "      <td>E54000050</td>\n",
       "      <td>NHS North East and North Cumbria ICB - 00L</td>\n",
       "      <td>Primary Care Network</td>\n",
       "      <td>Care Related Encounter</td>\n",
       "      <td>Patient contact during Care Home Round</td>\n",
       "      <td>3</td>\n",
       "      <td>2021-08</td>\n",
       "    </tr>\n",
       "    <tr>\n",
       "      <th>1</th>\n",
       "      <td>2021-08-02</td>\n",
       "      <td>E54000050</td>\n",
       "      <td>NHS North East and North Cumbria ICB - 00L</td>\n",
       "      <td>Other</td>\n",
       "      <td>Care Related Encounter</td>\n",
       "      <td>Planned Clinics</td>\n",
       "      <td>7</td>\n",
       "      <td>2021-08</td>\n",
       "    </tr>\n",
       "    <tr>\n",
       "      <th>2</th>\n",
       "      <td>2021-08-02</td>\n",
       "      <td>E54000050</td>\n",
       "      <td>NHS North East and North Cumbria ICB - 00L</td>\n",
       "      <td>General Practice</td>\n",
       "      <td>Care Related Encounter</td>\n",
       "      <td>Home Visit</td>\n",
       "      <td>79</td>\n",
       "      <td>2021-08</td>\n",
       "    </tr>\n",
       "    <tr>\n",
       "      <th>3</th>\n",
       "      <td>2021-08-02</td>\n",
       "      <td>E54000050</td>\n",
       "      <td>NHS North East and North Cumbria ICB - 00L</td>\n",
       "      <td>General Practice</td>\n",
       "      <td>Care Related Encounter</td>\n",
       "      <td>General Consultation Acute</td>\n",
       "      <td>725</td>\n",
       "      <td>2021-08</td>\n",
       "    </tr>\n",
       "    <tr>\n",
       "      <th>4</th>\n",
       "      <td>2021-08-02</td>\n",
       "      <td>E54000050</td>\n",
       "      <td>NHS North East and North Cumbria ICB - 00L</td>\n",
       "      <td>General Practice</td>\n",
       "      <td>Care Related Encounter</td>\n",
       "      <td>Structured Medication Review</td>\n",
       "      <td>2</td>\n",
       "      <td>2021-08</td>\n",
       "    </tr>\n",
       "  </tbody>\n",
       "</table>\n",
       "</div>"
      ],
      "text/plain": [
       "  appointment_date icb_ons_code                       sub_icb_location_name  \\\n",
       "0       2021-08-02    E54000050  NHS North East and North Cumbria ICB - 00L   \n",
       "1       2021-08-02    E54000050  NHS North East and North Cumbria ICB - 00L   \n",
       "2       2021-08-02    E54000050  NHS North East and North Cumbria ICB - 00L   \n",
       "3       2021-08-02    E54000050  NHS North East and North Cumbria ICB - 00L   \n",
       "4       2021-08-02    E54000050  NHS North East and North Cumbria ICB - 00L   \n",
       "\n",
       "        service_setting            context_type  \\\n",
       "0  Primary Care Network  Care Related Encounter   \n",
       "1                 Other  Care Related Encounter   \n",
       "2      General Practice  Care Related Encounter   \n",
       "3      General Practice  Care Related Encounter   \n",
       "4      General Practice  Care Related Encounter   \n",
       "\n",
       "                        national_category  count_of_appointments  \\\n",
       "0  Patient contact during Care Home Round                      3   \n",
       "1                         Planned Clinics                      7   \n",
       "2                              Home Visit                     79   \n",
       "3              General Consultation Acute                    725   \n",
       "4            Structured Medication Review                      2   \n",
       "\n",
       "  appointment_month  \n",
       "0           2021-08  \n",
       "1           2021-08  \n",
       "2           2021-08  \n",
       "3           2021-08  \n",
       "4           2021-08  "
      ]
     },
     "execution_count": 16,
     "metadata": {},
     "output_type": "execute_result"
    }
   ],
   "source": [
    "#check right data type for national_categories.xlsx\n",
    "nc.head()"
   ]
  },
  {
   "cell_type": "code",
   "execution_count": 17,
   "id": "aa38a455",
   "metadata": {},
   "outputs": [
    {
     "data": {
      "text/plain": [
       "0"
      ]
     },
     "execution_count": 17,
     "metadata": {},
     "output_type": "execute_result"
    }
   ],
   "source": [
    "#check for number of missing values for national_categories.xlsx\n",
    "nc.isnull().sum().sum()"
   ]
  },
  {
   "cell_type": "markdown",
   "id": "36e3914e",
   "metadata": {},
   "source": [
    "# Descriptive statistics and metadata\n",
    "# national_categories.xlsx"
   ]
  },
  {
   "cell_type": "code",
   "execution_count": 18,
   "id": "043daa0f",
   "metadata": {},
   "outputs": [
    {
     "name": "stderr",
     "output_type": "stream",
     "text": [
      "C:\\Users\\maami\\AppData\\Local\\Temp\\ipykernel_21704\\3059951789.py:2: FutureWarning: Treating datetime data as categorical rather than numeric in `.describe` is deprecated and will be removed in a future version of pandas. Specify `datetime_is_numeric=True` to silence this warning and adopt the future behavior now.\n",
      "  stats_nc = nc.describe(include='all')\n"
     ]
    },
    {
     "name": "stdout",
     "output_type": "stream",
     "text": [
      "           appointment_date icb_ons_code              sub_icb_location_name  \\\n",
      "count                817394       817394                             817394   \n",
      "unique                  334           42                                106   \n",
      "top     2022-06-28 00:00:00    E54000057  NHS North West London ICB - W2U3Z   \n",
      "freq                   3536        59180                              13007   \n",
      "first   2021-08-01 00:00:00          NaN                                NaN   \n",
      "last    2022-06-30 00:00:00          NaN                                NaN   \n",
      "mean                    NaN          NaN                                NaN   \n",
      "std                     NaN          NaN                                NaN   \n",
      "min                     NaN          NaN                                NaN   \n",
      "25%                     NaN          NaN                                NaN   \n",
      "50%                     NaN          NaN                                NaN   \n",
      "75%                     NaN          NaN                                NaN   \n",
      "max                     NaN          NaN                                NaN   \n",
      "\n",
      "         service_setting            context_type     national_category  \\\n",
      "count             817394                  817394                817394   \n",
      "unique                 5                       3                    18   \n",
      "top     General Practice  Care Related Encounter  Inconsistent Mapping   \n",
      "freq              359274                  700481                 89494   \n",
      "first                NaN                     NaN                   NaN   \n",
      "last                 NaN                     NaN                   NaN   \n",
      "mean                 NaN                     NaN                   NaN   \n",
      "std                  NaN                     NaN                   NaN   \n",
      "min                  NaN                     NaN                   NaN   \n",
      "25%                  NaN                     NaN                   NaN   \n",
      "50%                  NaN                     NaN                   NaN   \n",
      "75%                  NaN                     NaN                   NaN   \n",
      "max                  NaN                     NaN                   NaN   \n",
      "\n",
      "        count_of_appointments appointment_month  \n",
      "count           817394.000000            817394  \n",
      "unique                    NaN                11  \n",
      "top                       NaN           2022-03  \n",
      "freq                      NaN             82822  \n",
      "first                     NaN               NaN  \n",
      "last                      NaN               NaN  \n",
      "mean               362.183684               NaN  \n",
      "std               1084.576600               NaN  \n",
      "min                  1.000000               NaN  \n",
      "25%                  7.000000               NaN  \n",
      "50%                 25.000000               NaN  \n",
      "75%                128.000000               NaN  \n",
      "max              16590.000000               NaN  \n"
     ]
    }
   ],
   "source": [
    "#determine descriptive statistics for entire Data frame\n",
    "stats_nc = nc.describe(include='all')\n",
    "print (stats_nc)"
   ]
  },
  {
   "cell_type": "code",
   "execution_count": 19,
   "id": "c8fb299f",
   "metadata": {},
   "outputs": [
    {
     "data": {
      "text/html": [
       "<div>\n",
       "<style scoped>\n",
       "    .dataframe tbody tr th:only-of-type {\n",
       "        vertical-align: middle;\n",
       "    }\n",
       "\n",
       "    .dataframe tbody tr th {\n",
       "        vertical-align: top;\n",
       "    }\n",
       "\n",
       "    .dataframe thead th {\n",
       "        text-align: right;\n",
       "    }\n",
       "</style>\n",
       "<table border=\"1\" class=\"dataframe\">\n",
       "  <thead>\n",
       "    <tr style=\"text-align: right;\">\n",
       "      <th></th>\n",
       "      <th>count_of_appointments</th>\n",
       "    </tr>\n",
       "  </thead>\n",
       "  <tbody>\n",
       "    <tr>\n",
       "      <th>count</th>\n",
       "      <td>817394.000000</td>\n",
       "    </tr>\n",
       "    <tr>\n",
       "      <th>mean</th>\n",
       "      <td>362.183684</td>\n",
       "    </tr>\n",
       "    <tr>\n",
       "      <th>std</th>\n",
       "      <td>1084.576600</td>\n",
       "    </tr>\n",
       "    <tr>\n",
       "      <th>min</th>\n",
       "      <td>1.000000</td>\n",
       "    </tr>\n",
       "    <tr>\n",
       "      <th>25%</th>\n",
       "      <td>7.000000</td>\n",
       "    </tr>\n",
       "    <tr>\n",
       "      <th>50%</th>\n",
       "      <td>25.000000</td>\n",
       "    </tr>\n",
       "    <tr>\n",
       "      <th>75%</th>\n",
       "      <td>128.000000</td>\n",
       "    </tr>\n",
       "    <tr>\n",
       "      <th>max</th>\n",
       "      <td>16590.000000</td>\n",
       "    </tr>\n",
       "  </tbody>\n",
       "</table>\n",
       "</div>"
      ],
      "text/plain": [
       "       count_of_appointments\n",
       "count          817394.000000\n",
       "mean              362.183684\n",
       "std              1084.576600\n",
       "min                 1.000000\n",
       "25%                 7.000000\n",
       "50%                25.000000\n",
       "75%               128.000000\n",
       "max             16590.000000"
      ]
     },
     "execution_count": 19,
     "metadata": {},
     "output_type": "execute_result"
    }
   ],
   "source": [
    "nc.describe()"
   ]
  },
  {
   "cell_type": "code",
   "execution_count": 20,
   "id": "f873198a",
   "metadata": {},
   "outputs": [
    {
     "name": "stdout",
     "output_type": "stream",
     "text": [
      "<class 'pandas.core.frame.DataFrame'>\n",
      "RangeIndex: 817394 entries, 0 to 817393\n",
      "Data columns (total 8 columns):\n",
      " #   Column                 Non-Null Count   Dtype         \n",
      "---  ------                 --------------   -----         \n",
      " 0   appointment_date       817394 non-null  datetime64[ns]\n",
      " 1   icb_ons_code           817394 non-null  object        \n",
      " 2   sub_icb_location_name  817394 non-null  object        \n",
      " 3   service_setting        817394 non-null  object        \n",
      " 4   context_type           817394 non-null  object        \n",
      " 5   national_category      817394 non-null  object        \n",
      " 6   count_of_appointments  817394 non-null  int64         \n",
      " 7   appointment_month      817394 non-null  object        \n",
      "dtypes: datetime64[ns](1), int64(1), object(6)\n",
      "memory usage: 49.9+ MB\n"
     ]
    }
   ],
   "source": [
    "nc.info()"
   ]
  },
  {
   "cell_type": "markdown",
   "id": "1b46aad7",
   "metadata": {},
   "source": [
    "# answering questions\n",
    "### How many locations in the Data set? \n",
    "106\n",
    "### What are the five locations with the highest number of records?\n",
    "NHS North West London ICB - W2U3Z              \n",
    "NHS Kent and Medway ICB - 91Q                  \n",
    "NHS Devon ICB - 15N                            \n",
    "NHS Hampshire and Isle Of Wight ICB - D9Y0V    \n",
    "NHS North East London ICB - A3A8R\n",
    "### How many service settings, context types, national categories, and appointment statuses are there?\n",
    "service settings - 5\n",
    "context types - 3\n",
    "national categories - 18\n",
    "appointment statuses - 3"
   ]
  },
  {
   "cell_type": "code",
   "execution_count": 21,
   "id": "3920a38e",
   "metadata": {},
   "outputs": [
    {
     "name": "stdout",
     "output_type": "stream",
     "text": [
      "NHS North West London ICB - W2U3Z              13007\n",
      "NHS Kent and Medway ICB - 91Q                  12637\n",
      "NHS Devon ICB - 15N                            12526\n",
      "NHS Hampshire and Isle Of Wight ICB - D9Y0V    12171\n",
      "NHS North East London ICB - A3A8R              11837\n",
      "                                               ...  \n",
      "NHS North East and North Cumbria ICB - 00N      4210\n",
      "NHS Lancashire and South Cumbria ICB - 02G      4169\n",
      "NHS Cheshire and Merseyside ICB - 01V           3496\n",
      "NHS Cheshire and Merseyside ICB - 01T           3242\n",
      "NHS Greater Manchester ICB - 00V                2170\n",
      "Name: sub_icb_location_name, Length: 106, dtype: int64\n"
     ]
    }
   ],
   "source": [
    "#find unique locations in the data set\n",
    "loc_nc = nc.sub_icb_location_name.value_counts()\n",
    "#print locations in descending order\n",
    "print(loc_nc)"
   ]
  },
  {
   "cell_type": "code",
   "execution_count": 38,
   "id": "14de350c",
   "metadata": {},
   "outputs": [
    {
     "name": "stdout",
     "output_type": "stream",
     "text": [
      "Count of locations: 106\n"
     ]
    }
   ],
   "source": [
    "# count total number of unique locations\n",
    "count_loc= len(loc_nc)\n",
    "#print results\n",
    "print(\"Count of locations:\", count_loc)"
   ]
  },
  {
   "cell_type": "code",
   "execution_count": 41,
   "id": "b4ae18f8",
   "metadata": {},
   "outputs": [
    {
     "data": {
      "text/plain": [
       "NHS North West London ICB - W2U3Z              13007\n",
       "NHS Kent and Medway ICB - 91Q                  12637\n",
       "NHS Devon ICB - 15N                            12526\n",
       "NHS Hampshire and Isle Of Wight ICB - D9Y0V    12171\n",
       "NHS North East London ICB - A3A8R              11837\n",
       "Name: sub_icb_location_name, dtype: int64"
      ]
     },
     "execution_count": 41,
     "metadata": {},
     "output_type": "execute_result"
    }
   ],
   "source": [
    "#view first 5 locations with the highest number of records\n",
    "loc_nc.head()"
   ]
  },
  {
   "cell_type": "code",
   "execution_count": 58,
   "id": "9b9f1480",
   "metadata": {},
   "outputs": [
    {
     "name": "stdout",
     "output_type": "stream",
     "text": [
      "General Practice             359274\n",
      "Primary Care Network         183790\n",
      "Other                        138789\n",
      "Extended Access Provision    108122\n",
      "Unmapped                      27419\n",
      "Name: service_setting, dtype: int64\n",
      "Service settings: 5\n"
     ]
    }
   ],
   "source": [
    "#find types of different service settings\n",
    "service_set_nc = nc.service_setting.value_counts()\n",
    "#print service settings\n",
    "print(service_set_nc)\n",
    "\n",
    "#count total number of service settings\n",
    "count_ser_set = nc.service_setting.unique().size\n",
    "#print results\n",
    "print(\"Service settings: \"+ str(count_ser_set))"
   ]
  },
  {
   "cell_type": "code",
   "execution_count": 59,
   "id": "d16904a9",
   "metadata": {},
   "outputs": [
    {
     "name": "stdout",
     "output_type": "stream",
     "text": [
      "Care Related Encounter    700481\n",
      "Inconsistent Mapping       89494\n",
      "Unmapped                   27419\n",
      "Name: context_type, dtype: int64\n",
      "Context types: 3\n"
     ]
    }
   ],
   "source": [
    "# find different context types\n",
    "context_type = nc.context_type.value_counts()\n",
    "# print outcome\n",
    "print(context_type)\n",
    "# count total number of different context types\n",
    "count_cont = nc.context_type.unique().size\n",
    "#print outcome\n",
    "print(\"Context types: \"+ str(count_cont))"
   ]
  },
  {
   "cell_type": "code",
   "execution_count": 57,
   "id": "93c42576",
   "metadata": {},
   "outputs": [
    {
     "name": "stdout",
     "output_type": "stream",
     "text": [
      "Inconsistent Mapping                                                   89494\n",
      "General Consultation Routine                                           89329\n",
      "General Consultation Acute                                             84874\n",
      "Planned Clinics                                                        76429\n",
      "Clinical Triage                                                        74539\n",
      "Planned Clinical Procedure                                             59631\n",
      "Structured Medication Review                                           44467\n",
      "Service provided by organisation external to the practice              43095\n",
      "Home Visit                                                             41850\n",
      "Unplanned Clinical Activity                                            40415\n",
      "Patient contact during Care Home Round                                 28795\n",
      "Unmapped                                                               27419\n",
      "Care Home Visit                                                        26644\n",
      "Social Prescribing Service                                             26492\n",
      "Care Home Needs Assessment & Personalised Care and Support Planning    23505\n",
      "Non-contractual chargeable work                                        20896\n",
      "Walk-in                                                                14179\n",
      "Group Consultation and Group Education                                  5341\n",
      "Name: national_category, dtype: int64\n",
      "national categories: 18\n"
     ]
    }
   ],
   "source": [
    "# find different national categories\n",
    "nat_cat_nc = nc.national_category.value_counts()\n",
    "# print outcome\n",
    "print(nat_cat_nc)\n",
    "\n",
    "#count different national categories\n",
    "count_nat_cat = nc.national_category.unique().size\n",
    "#print outcome\n",
    "print(\"national categories: \"+ str(count_nat_cat))"
   ]
  },
  {
   "cell_type": "code",
   "execution_count": 56,
   "id": "b619900c",
   "metadata": {},
   "outputs": [
    {
     "name": "stdout",
     "output_type": "stream",
     "text": [
      "Attended    232137\n",
      "Unknown     201324\n",
      "DNA         163360\n",
      "Name: appointment_status, dtype: int64\n",
      "Appointment statuses: 3\n"
     ]
    }
   ],
   "source": [
    "#find appointment statuses\n",
    "app_stat_ar = ar.appointment_status.value_counts()\n",
    "#print outcome\n",
    "print(app_stat_ar)\n",
    "# count types of appointment status\n",
    "count_app = ar.appointment_status.unique().size\n",
    "#print outcome\n",
    "print(\"Appointment statuses: \"+ str(count_app))"
   ]
  },
  {
   "cell_type": "code",
   "execution_count": null,
   "id": "b01dccca",
   "metadata": {},
   "outputs": [],
   "source": []
  }
 ],
 "metadata": {
  "kernelspec": {
   "display_name": "Python 3 (ipykernel)",
   "language": "python",
   "name": "python3"
  },
  "language_info": {
   "codemirror_mode": {
    "name": "ipython",
    "version": 3
   },
   "file_extension": ".py",
   "mimetype": "text/x-python",
   "name": "python",
   "nbconvert_exporter": "python",
   "pygments_lexer": "ipython3",
   "version": "3.9.12"
  }
 },
 "nbformat": 4,
 "nbformat_minor": 5
}
